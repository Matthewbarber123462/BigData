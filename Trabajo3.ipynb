{
  "cells": [
    {
      "cell_type": "code",
      "execution_count": 1,
      "metadata": {
        "colab": {
          "base_uri": "https://localhost:8080/",
          "height": 144
        },
        "id": "djLxiEziMuM5",
        "outputId": "58560561-a50f-465f-f162-8d4b8ea1f263"
      },
      "outputs": [
        {
          "output_type": "display_data",
          "data": {
            "text/plain": [
              "<IPython.core.display.HTML object>"
            ],
            "text/html": [
              "\n",
              "     <input type=\"file\" id=\"files-dd0aabbd-3e59-47a2-9538-89d6e50f5a08\" name=\"files[]\" multiple disabled\n",
              "        style=\"border:none\" />\n",
              "     <output id=\"result-dd0aabbd-3e59-47a2-9538-89d6e50f5a08\">\n",
              "      Upload widget is only available when the cell has been executed in the\n",
              "      current browser session. Please rerun this cell to enable.\n",
              "      </output>\n",
              "      <script>// Copyright 2017 Google LLC\n",
              "//\n",
              "// Licensed under the Apache License, Version 2.0 (the \"License\");\n",
              "// you may not use this file except in compliance with the License.\n",
              "// You may obtain a copy of the License at\n",
              "//\n",
              "//      http://www.apache.org/licenses/LICENSE-2.0\n",
              "//\n",
              "// Unless required by applicable law or agreed to in writing, software\n",
              "// distributed under the License is distributed on an \"AS IS\" BASIS,\n",
              "// WITHOUT WARRANTIES OR CONDITIONS OF ANY KIND, either express or implied.\n",
              "// See the License for the specific language governing permissions and\n",
              "// limitations under the License.\n",
              "\n",
              "/**\n",
              " * @fileoverview Helpers for google.colab Python module.\n",
              " */\n",
              "(function(scope) {\n",
              "function span(text, styleAttributes = {}) {\n",
              "  const element = document.createElement('span');\n",
              "  element.textContent = text;\n",
              "  for (const key of Object.keys(styleAttributes)) {\n",
              "    element.style[key] = styleAttributes[key];\n",
              "  }\n",
              "  return element;\n",
              "}\n",
              "\n",
              "// Max number of bytes which will be uploaded at a time.\n",
              "const MAX_PAYLOAD_SIZE = 100 * 1024;\n",
              "\n",
              "function _uploadFiles(inputId, outputId) {\n",
              "  const steps = uploadFilesStep(inputId, outputId);\n",
              "  const outputElement = document.getElementById(outputId);\n",
              "  // Cache steps on the outputElement to make it available for the next call\n",
              "  // to uploadFilesContinue from Python.\n",
              "  outputElement.steps = steps;\n",
              "\n",
              "  return _uploadFilesContinue(outputId);\n",
              "}\n",
              "\n",
              "// This is roughly an async generator (not supported in the browser yet),\n",
              "// where there are multiple asynchronous steps and the Python side is going\n",
              "// to poll for completion of each step.\n",
              "// This uses a Promise to block the python side on completion of each step,\n",
              "// then passes the result of the previous step as the input to the next step.\n",
              "function _uploadFilesContinue(outputId) {\n",
              "  const outputElement = document.getElementById(outputId);\n",
              "  const steps = outputElement.steps;\n",
              "\n",
              "  const next = steps.next(outputElement.lastPromiseValue);\n",
              "  return Promise.resolve(next.value.promise).then((value) => {\n",
              "    // Cache the last promise value to make it available to the next\n",
              "    // step of the generator.\n",
              "    outputElement.lastPromiseValue = value;\n",
              "    return next.value.response;\n",
              "  });\n",
              "}\n",
              "\n",
              "/**\n",
              " * Generator function which is called between each async step of the upload\n",
              " * process.\n",
              " * @param {string} inputId Element ID of the input file picker element.\n",
              " * @param {string} outputId Element ID of the output display.\n",
              " * @return {!Iterable<!Object>} Iterable of next steps.\n",
              " */\n",
              "function* uploadFilesStep(inputId, outputId) {\n",
              "  const inputElement = document.getElementById(inputId);\n",
              "  inputElement.disabled = false;\n",
              "\n",
              "  const outputElement = document.getElementById(outputId);\n",
              "  outputElement.innerHTML = '';\n",
              "\n",
              "  const pickedPromise = new Promise((resolve) => {\n",
              "    inputElement.addEventListener('change', (e) => {\n",
              "      resolve(e.target.files);\n",
              "    });\n",
              "  });\n",
              "\n",
              "  const cancel = document.createElement('button');\n",
              "  inputElement.parentElement.appendChild(cancel);\n",
              "  cancel.textContent = 'Cancel upload';\n",
              "  const cancelPromise = new Promise((resolve) => {\n",
              "    cancel.onclick = () => {\n",
              "      resolve(null);\n",
              "    };\n",
              "  });\n",
              "\n",
              "  // Wait for the user to pick the files.\n",
              "  const files = yield {\n",
              "    promise: Promise.race([pickedPromise, cancelPromise]),\n",
              "    response: {\n",
              "      action: 'starting',\n",
              "    }\n",
              "  };\n",
              "\n",
              "  cancel.remove();\n",
              "\n",
              "  // Disable the input element since further picks are not allowed.\n",
              "  inputElement.disabled = true;\n",
              "\n",
              "  if (!files) {\n",
              "    return {\n",
              "      response: {\n",
              "        action: 'complete',\n",
              "      }\n",
              "    };\n",
              "  }\n",
              "\n",
              "  for (const file of files) {\n",
              "    const li = document.createElement('li');\n",
              "    li.append(span(file.name, {fontWeight: 'bold'}));\n",
              "    li.append(span(\n",
              "        `(${file.type || 'n/a'}) - ${file.size} bytes, ` +\n",
              "        `last modified: ${\n",
              "            file.lastModifiedDate ? file.lastModifiedDate.toLocaleDateString() :\n",
              "                                    'n/a'} - `));\n",
              "    const percent = span('0% done');\n",
              "    li.appendChild(percent);\n",
              "\n",
              "    outputElement.appendChild(li);\n",
              "\n",
              "    const fileDataPromise = new Promise((resolve) => {\n",
              "      const reader = new FileReader();\n",
              "      reader.onload = (e) => {\n",
              "        resolve(e.target.result);\n",
              "      };\n",
              "      reader.readAsArrayBuffer(file);\n",
              "    });\n",
              "    // Wait for the data to be ready.\n",
              "    let fileData = yield {\n",
              "      promise: fileDataPromise,\n",
              "      response: {\n",
              "        action: 'continue',\n",
              "      }\n",
              "    };\n",
              "\n",
              "    // Use a chunked sending to avoid message size limits. See b/62115660.\n",
              "    let position = 0;\n",
              "    do {\n",
              "      const length = Math.min(fileData.byteLength - position, MAX_PAYLOAD_SIZE);\n",
              "      const chunk = new Uint8Array(fileData, position, length);\n",
              "      position += length;\n",
              "\n",
              "      const base64 = btoa(String.fromCharCode.apply(null, chunk));\n",
              "      yield {\n",
              "        response: {\n",
              "          action: 'append',\n",
              "          file: file.name,\n",
              "          data: base64,\n",
              "        },\n",
              "      };\n",
              "\n",
              "      let percentDone = fileData.byteLength === 0 ?\n",
              "          100 :\n",
              "          Math.round((position / fileData.byteLength) * 100);\n",
              "      percent.textContent = `${percentDone}% done`;\n",
              "\n",
              "    } while (position < fileData.byteLength);\n",
              "  }\n",
              "\n",
              "  // All done.\n",
              "  yield {\n",
              "    response: {\n",
              "      action: 'complete',\n",
              "    }\n",
              "  };\n",
              "}\n",
              "\n",
              "scope.google = scope.google || {};\n",
              "scope.google.colab = scope.google.colab || {};\n",
              "scope.google.colab._files = {\n",
              "  _uploadFiles,\n",
              "  _uploadFilesContinue,\n",
              "};\n",
              "})(self);\n",
              "</script> "
            ]
          },
          "metadata": {}
        },
        {
          "output_type": "stream",
          "name": "stdout",
          "text": [
            "Saving tabla_adulto_equiv.xlsx to tabla_adulto_equiv.xlsx\n",
            "Saving usu_hogar_T123.xlsx to usu_hogar_T123.xlsx\n",
            "Saving usu_individual_T123.xlsx to usu_individual_T123.xlsx\n"
          ]
        }
      ],
      "source": [
        "import numpy as np\n",
        "from sklearn.metrics import confusion_matrix, roc_curve, roc_auc_score, accuracy_score, mean_squared_error\n",
        "import matplotlib.pyplot as plt\n",
        "from sklearn.model_selection import train_test_split, GridSearchCV\n",
        "from sklearn.model_selection import KFold\n",
        "from sklearn.preprocessing import PolynomialFeatures\n",
        "from sklearn.linear_model import LogisticRegression\n",
        "\n",
        "from google.colab import files\n",
        "\n",
        "uploaded = files.upload()"
      ]
    },
    {
      "cell_type": "markdown",
      "metadata": {
        "id": "urWEj5gtBUb7"
      },
      "source": [
        "1. Exploren el disen ̃o de registro de la base de hogar: a priori, ¿qu ́e variables creen que pueden ser muy predictivas de pobreza y que ser ́ıa muy u ́til incluir para perfeccionar el ejercicio del TP2?\n"
      ]
    },
    {
      "cell_type": "code",
      "execution_count": null,
      "metadata": {
        "id": "SMv8bizvBVa_"
      },
      "outputs": [],
      "source": [
        "# VARIABLES QUE ME INTERESAN\n",
        "# IV1 (tipo de alojamiento)\n",
        "# IV6 (disponilidad de agua)\n",
        "# IV12_1 (La vivienda está ubicada cerda de basural (3 cuadras o menos))\n",
        "#II9 (Acceso de un Baño, propio baño, compartido con otras, etc))\n",
        "# V5 (si han vivido de algún subsidio o ayuda social (de gobierno, iglesia, etc))\n",
        "#CH09 - Sabe leer y escribir\n",
        "#Nivel_ED - Nivel de educacción\n",
        "\n",
        "#Quedar con todos excepto que columnas que no tienen ningun sentido\n",
        "# (años, codigos que no son relevantes, saca ingresos)"
      ]
    },
    {
      "cell_type": "markdown",
      "metadata": {
        "id": "1i4P9MupBqe5"
      },
      "source": [
        "2. Descarguen la base de microdatos de la EPH correspondiente al primer trimestre de 2023 (la base de hogares se llama usu hogar T123.xls). Importen los datos de la encuesta de hogar y, al igual que en el TP2, conserven so ́lo las observaciones que corresponden a los aglomerados de Ciudad Auto ́noma de Buenos Aires o del Gran Buenos Aires."
      ]
    },
    {
      "cell_type": "code",
      "execution_count": 2,
      "metadata": {
        "id": "_xVEjbA2Btij"
      },
      "outputs": [],
      "source": [
        "import pandas as pd\n",
        "\n",
        "\n",
        "file_names = list(uploaded.keys())\n",
        "\n",
        "# Create separate DataFrames for each uploaded file\n",
        "# You can specify different variable names (df1, df2, df3, etc.) based on the number of uploaded files\n",
        "df1 = pd.read_excel(file_names[0],  skiprows = 4, header=0) #adul_equiv\n",
        "df2 = pd.read_excel(file_names[1])                    # df de hogar\n",
        "df3 = pd.read_excel(file_names[2])                    # df de individuo\n",
        "\n",
        "\n",
        "def filter_region(df):  # hice un funcción para reducir el numero de lineas\n",
        "\n",
        "\n",
        "    gran_buenos_aires = 1 # se declara un variable que es igual de 1 - la numera que corresponde a gente que vive en Buenos Aires\n",
        "    region_filtered = df['REGION'] == gran_buenos_aires\n",
        "\n",
        "    df = df[region_filtered] #nueva dataframe, que es actualizado en respecto con el filtro de region\n",
        "    return df\n",
        "\n",
        "df2 = filter_region(df2)\n",
        "df3 = filter_region(df3)\n"
      ]
    },
    {
      "cell_type": "markdown",
      "metadata": {
        "id": "OHLcRYxtB8Jp"
      },
      "source": [
        "\n",
        "3. Unan la tabla de la encuesta individual con la de la encuesta de hogar.\n"
      ]
    },
    {
      "cell_type": "code",
      "execution_count": 3,
      "metadata": {
        "colab": {
          "base_uri": "https://localhost:8080/"
        },
        "id": "WfyNv_RqCbDt",
        "outputId": "ef583661-b656-40e2-e65d-02c378bf8353"
      },
      "outputs": [
        {
          "output_type": "stream",
          "name": "stdout",
          "text": [
            "0       TQRMNORVYHMOTSCDEIJAH00802517\n",
            "1       TQRMNORVYHMOTSCDEIJAH00802517\n",
            "2       TQRMNOSQRHLLTTCDEIJAH00719390\n",
            "3       TQRMNOSQRHLLTTCDEIJAH00719390\n",
            "4       TQSMNOSQRHLLTTCDEIJAH00719389\n",
            "                    ...              \n",
            "7614    TQRMNOSSQHKOOMCDEIJAH00802644\n",
            "7615    TQRMNOSSQHKOOMCDEIJAH00802644\n",
            "7616    TQRMNOSSQHKOOMCDEIJAH00802644\n",
            "7617    TQRMNORYPHJKNPCDEIJAH00794297\n",
            "7618    TQRMNORYPHJKNPCDEIJAH00794297\n",
            "Name: CODUSU, Length: 7619, dtype: object\n"
          ]
        }
      ],
      "source": [
        "# baja columnas que faltan valores numericos, o que no son relevantes\n",
        "\n",
        "df2 = df2.drop(columns = ['ANO4', 'TRIMESTRE', 'DECIFR', 'IDECIFR', 'RDECIFR', 'GDECIFR', 'PDECIFR', 'ADECIFR',\n",
        "                    'DECCFR', 'IDECCFR','IPCF', 'RDECCFR', 'GDECCFR', 'PDECCFR', 'ADECCFR', 'MAS_500',\n",
        "                          'REALIZADA', 'IV1_ESP', 'IV3_ESP', 'IV7_ESP', 'II7_ESP', 'II8_ESP'])\n",
        "df3 = df3.drop(columns= ['ITF', 'DECIFR', 'IDECIFR', 'RDECIFR', 'GDECIFR', 'PDECIFR', 'ADECIFR',\n",
        "                    'DECCFR', 'IDECCFR','IPCF', 'RDECCFR', 'GDECCFR', 'PDECCFR', 'ADECCFR', 'PONDIH','ANO4', 'TRIMESTRE', 'MAS_500'])\n",
        "# creo que tiene mas sentido para hacer el drop antes del merge\n",
        "merged_df = pd.merge(df2, df3, on=['CODUSU', 'NRO_HOGAR'])\n",
        "\n",
        "merged_df = merged_df.drop_duplicates()\n",
        "print(merged_df['CODUSU'])"
      ]
    },
    {
      "cell_type": "markdown",
      "metadata": {
        "id": "2YEWluzVCiNo"
      },
      "source": [
        "4. Generen sus propias funciones para limpiar la base de datos o, si deciden utilizar funciones existentes en paquetes como numpy y pandas, mencionen cu ́ales usar ́an y de qu ́e paquetes son."
      ]
    },
    {
      "cell_type": "code",
      "execution_count": 4,
      "metadata": {
        "id": "WHX9alFCCqT2"
      },
      "outputs": [],
      "source": [
        "def calc_nonoutlier_range(series):\n",
        "\tQ3 = series.quantile(0.75)\n",
        "\tQ1 = series.quantile(0.25)\n",
        "\tIQR = Q3 - Q1\n",
        "\tlower_value = Q1 - 1.5 * IQR\n",
        "\tupper_value = Q3 + 1.5 * IQR\n",
        "\treturn [lower_value, upper_value]\n",
        "\n",
        "\n",
        "itf = merged_df['ITF'] # eliminacción de algunos outliers\n",
        "\n",
        "rango = calc_nonoutlier_range(itf)\n",
        "\n",
        "filt_remove_outliers = (itf >= rango[0]) & (itf <= rango[1])\n",
        "\n",
        "merged_df = merged_df[filt_remove_outliers]\n",
        "\n",
        "merged_df = merged_df.dropna(axis=1, how='any') # Solo bajé columnas si todos de sus valores son nAn\n",
        "\n",
        "merged_df = merged_df.T.drop_duplicates().T\n",
        "\n"
      ]
    },
    {
      "cell_type": "markdown",
      "metadata": {
        "id": "mmTG7t2UCwVx"
      },
      "source": [
        "\n",
        "5. Limpien la base de datos tomando criterios que hagan sentido, tanto para el tratamiento de valores faltantes, de outliers, como as ́ı tambi ́en decidan qu ́e va- riables catego ́ricas y strings usar ́an y transfo ́rmenlas de forma que haga sentido para los ejercicios siguientes. Justifiquen sus decisiones."
      ]
    },
    {
      "cell_type": "markdown",
      "source": [
        "ya limpié por arriba, porque me parecía mas facil para hacer antes del merge."
      ],
      "metadata": {
        "id": "dmtZ3-ZTEULV"
      }
    },
    {
      "cell_type": "markdown",
      "metadata": {
        "id": "n6UX7CLHC7Vd"
      },
      "source": [
        "6. Presenten estad ́ısticas descriptivas de cinco variables de la encuesta de hogar que ustedes creen que pueden ser relevantes para predecir pobreza."
      ]
    },
    {
      "cell_type": "code",
      "execution_count": 5,
      "metadata": {
        "id": "00zHucOEDEV_"
      },
      "outputs": [],
      "source": [
        "def desc_estadisticas(columna):\n",
        "\t# Calculate the mean\n",
        "\tmedio = columna.mean()\n",
        "\t# Calculate the median\n",
        "\tmediana = columna.median()\n",
        "\t# Calculate frequency counts\n",
        "\tcuentas_frequencia = columna.value_counts()\n",
        "\t# Print the results\n",
        "\treturn \"Medio: \", medio, \" Mediana: \", mediana, \" cuentas de frequencia: \", cuentas_frequencia\n",
        "\n",
        "\n"
      ]
    },
    {
      "cell_type": "markdown",
      "metadata": {
        "id": "Ux84_9lvDK6x"
      },
      "source": [
        "7. Repitan el inciso 1.2.f del TP2 para construir la columna adulto equiv y la columna ad equiv hogar (pueden utilizar su co ́digo del TP2).\n"
      ]
    },
    {
      "cell_type": "code",
      "execution_count": 8,
      "metadata": {
        "id": "UwiyQgyADIV5"
      },
      "outputs": [],
      "source": [
        "import numpy as np\n",
        "\n",
        "\n",
        "\n",
        "df1.columns = ['CH06', 'Mujeres', 'Varones']\n",
        "df1['CH06'] = df1['CH06'].str.replace(r'\\D', '', regex=True) # evitando valores 'strings' de la columna con años\n",
        "merged_df['CH06'] = merged_df['CH06'].astype(int) # asegurar que los valos se reconoce como numeric\n",
        "\n",
        "conditions_varones = [\n",
        "    (merged_df['CH06'] == 0) & (merged_df['CH04'] == 1),\n",
        "    (merged_df['CH06'] == 1) & (merged_df['CH04'] == 1),\n",
        "    (merged_df['CH06'] == 2) & (merged_df['CH04'] == 1),\n",
        "    (merged_df['CH06'] == 3) & (merged_df['CH04'] == 1),\n",
        "    (merged_df['CH06'] == 4) & (merged_df['CH04'] == 1),\n",
        "    (merged_df['CH06'] == 5) & (merged_df['CH04'] == 1),\n",
        "    (merged_df['CH06'] == 6) & (merged_df['CH04'] == 1),\n",
        "    (merged_df['CH06'] == 7) & (merged_df['CH04'] == 1),\n",
        "    (merged_df['CH06'] == 8) & (merged_df['CH04'] == 1),\n",
        "    (merged_df['CH06'] == 9) & (merged_df['CH04'] == 1),\n",
        "    (merged_df['CH06'] == 10) & (merged_df['CH04'] == 1),\n",
        "    (merged_df['CH06'] == 11) & (merged_df['CH04'] == 1),\n",
        "    (merged_df['CH06'] == 12) & (merged_df['CH04'] == 1),\n",
        "    (merged_df['CH06'] == 13) & (merged_df['CH04'] == 1),\n",
        "    (merged_df['CH06'] == 14) & (merged_df['CH04'] == 1),\n",
        "    (merged_df['CH06'] == 15) & (merged_df['CH04'] == 1),\n",
        "    (merged_df['CH06'] == 16) & (merged_df['CH04'] == 1),\n",
        "    (merged_df['CH06'] == 17) & (merged_df['CH04'] == 1),\n",
        "    ((merged_df['CH06'] >= 18) & (merged_df['CH06'] <= 29) & (merged_df['CH04'] == 1)),\n",
        "    ((merged_df['CH06'] >= 30) & (merged_df['CH06'] <= 45) & (merged_df['CH04'] == 1)),\n",
        "    ((merged_df['CH06'] >= 46) & (merged_df['CH06'] <= 60) & (merged_df['CH04'] == 1)),\n",
        "    ((merged_df['CH06'] >= 61) & (merged_df['CH06'] <= 75) & (merged_df['CH04'] == 1)),\n",
        "    (merged_df['CH06'] > 75) & (merged_df['CH04'] == 1),\n",
        "] # classificación de valores según de edad y genero\n",
        "\n",
        "conditions_mujeres = [\n",
        "    (merged_df['CH06'] == 0) & (merged_df['CH04'] == 2),\n",
        "    (merged_df['CH06'] == 1) & (merged_df['CH04'] == 2),\n",
        "    (merged_df['CH06'] == 2) & (merged_df['CH04'] == 2),\n",
        "    (merged_df['CH06'] == 3) & (merged_df['CH04'] == 2),\n",
        "    (merged_df['CH06'] == 4) & (merged_df['CH04'] == 2),\n",
        "    (merged_df['CH06'] == 5) & (merged_df['CH04'] == 2),\n",
        "    (merged_df['CH06'] == 6) & (merged_df['CH04'] == 2),\n",
        "    (merged_df['CH06'] == 7) & (merged_df['CH04'] == 2),\n",
        "    (merged_df['CH06'] == 8) & (merged_df['CH04'] == 2),\n",
        "    (merged_df['CH06'] == 9) & (merged_df['CH04'] == 2),\n",
        "    (merged_df['CH06'] == 10) & (merged_df['CH04'] == 2),\n",
        "    (merged_df['CH06'] == 11) & (merged_df['CH04'] == 2),\n",
        "    (merged_df['CH06'] == 12) & (merged_df['CH04'] == 2),\n",
        "    (merged_df['CH06'] == 13) & (merged_df['CH04'] == 2),\n",
        "    (merged_df['CH06'] == 14) & (merged_df['CH04'] == 2),\n",
        "    (merged_df['CH06'] == 15) & (merged_df['CH04'] == 2),\n",
        "    (merged_df['CH06'] == 16) & (merged_df['CH04'] == 2),\n",
        "    (merged_df['CH06'] == 17) & (merged_df['CH04'] == 2),\n",
        "    ((merged_df['CH06'] >= 18) & (merged_df['CH06'] <= 29) & (merged_df['CH04'] == 2)),\n",
        "    ((merged_df['CH06'] >= 30) & (merged_df['CH06'] <= 45) & (merged_df['CH04'] == 2)),\n",
        "    ((merged_df['CH06'] >= 46) & (merged_df['CH06'] <= 60) & (merged_df['CH04'] == 2)),\n",
        "    ((merged_df['CH06'] >= 61) & (merged_df['CH06'] <= 75) & (merged_df['CH04'] == 2)),\n",
        "    (merged_df['CH06'] > 75) & (merged_df['CH04'] == 2)]\n",
        "\n",
        "\n",
        "default_choice = 0.0\n",
        "\n",
        "choices_varones = [\n",
        "    0.35, 0.37, 0.46, 0.51, 0.55, 0.60, 0.64, 0.66, 0.68, 0.69, 0.79,\n",
        "    0.82, 0.85, 0.90, 0.96, 1.00, 1.03, 1.04, 1.02, 1.00, 1.00, 0.83, 0.74\n",
        "]\n",
        "\n",
        "choices_mujeres = [\n",
        "    0.35, 0.37, 0.46, 0.51, 0.55, 0.60, 0.64, 0.66, 0.68, 0.69, 0.70,\n",
        "    0.72, 0.74, 0.76, 0.76, 0.77, 0.77, 0.77, 0.76, 0.77, 0.76, 0.67, 0.63\n",
        "]\n",
        "\n",
        "merged_df['adulto_equiv'] = np.select(conditions_varones, choices_varones) + np.select(conditions_mujeres, choices_mujeres, default_choice)\n"
      ]
    },
    {
      "cell_type": "markdown",
      "metadata": {
        "id": "zJm685DFDY-w"
      },
      "source": [
        "8. Repitan el inciso 1.3 y 1.4 del TP2 para dividir la base en dos dataframes donde: uno conserve las personas que no reportaron ITF (dataframe llamado\n",
        "2\n",
        "respondieron) y otro conserve a las personas que no reportaron ITF (llama- do norespondieron). Adem ́as, agreguen a la base respondieron una colum- na llamada ingreso necesario que sea el producto de la canasta b ́asica por ad equiv hogar.\n"
      ]
    },
    {
      "cell_type": "code",
      "execution_count": 9,
      "metadata": {
        "colab": {
          "base_uri": "https://localhost:8080/"
        },
        "id": "5m-KY_n6Ym0b",
        "outputId": "5b401704-f36f-4675-a5ec-17b88b841984"
      },
      "outputs": [
        {
          "output_type": "stream",
          "name": "stdout",
          "text": [
            "0       TQRMNORVYHMOTSCDEIJAH00802517\n",
            "1       TQRMNORVYHMOTSCDEIJAH00802517\n",
            "2       TQRMNOSQRHLLTTCDEIJAH00719390\n",
            "3       TQRMNOSQRHLLTTCDEIJAH00719390\n",
            "4       TQSMNOSQRHLLTTCDEIJAH00719389\n",
            "                    ...              \n",
            "7614    TQRMNOSSQHKOOMCDEIJAH00802644\n",
            "7615    TQRMNOSSQHKOOMCDEIJAH00802644\n",
            "7616    TQRMNOSSQHKOOMCDEIJAH00802644\n",
            "7617    TQRMNORYPHJKNPCDEIJAH00794297\n",
            "7618    TQRMNORYPHJKNPCDEIJAH00794297\n",
            "Name: CODUSU, Length: 7293, dtype: object\n",
            "(7293, 120)\n"
          ]
        }
      ],
      "source": [
        "print(merged_df['CODUSU'])\n",
        "print(merged_df.shape)\n"
      ]
    },
    {
      "cell_type": "code",
      "execution_count": 10,
      "metadata": {
        "id": "nq28BcqlDcqu"
      },
      "outputs": [],
      "source": [
        "ad_equiv_hogar1 = merged_df.groupby('CODUSU')['adulto_equiv'].sum().reset_index()\n",
        "\n",
        "merged_df = merged_df.merge(ad_equiv_hogar1, on='CODUSU', how='left')\n",
        "\n",
        "merged_df.rename(columns={'adulto_equiv_y': 'ad_equiv_hogar1'}, inplace=True)\n",
        "merged_df.rename(columns={'adulto_equiv_x': 'adulto_equiv'}, inplace=True) # se renombra las columnas\n",
        "\n",
        "#print(merged_df)\n",
        "\n",
        "canasta = 57371.05 # se declara canasta\n",
        "\n",
        "#drop duplicates, (CODUSU) para quedarme con un individuo por hogar\n",
        "\n",
        "merged_df = merged_df.drop_duplicates(subset=['CODUSU'])\n",
        "merged_df = merged_df.drop(columns = ['CODUSU', 'NRO_HOGAR'])\n",
        "\n"
      ]
    },
    {
      "cell_type": "markdown",
      "metadata": {
        "id": "bMbffooLZaG0"
      },
      "source": [
        "9. Agreguen a la base respondieron una columna llamada pobre, que tome valor 1 si el ITF es menor al ingreso necesario que necesita esa familia y 0 en caso contrario."
      ]
    },
    {
      "cell_type": "code",
      "execution_count": 72,
      "metadata": {
        "id": "81AerZXoEIgU"
      },
      "outputs": [],
      "source": [
        "respondieron = merged_df[merged_df['ITF'] != 0].copy()\n",
        "respondieron['ingreso_necesario'] = respondieron['ad_equiv_hogar1'] * canasta\n",
        "respondieron['pobre'] = (respondieron['ITF'] < respondieron['ingreso_necesario']).astype(int) # se declara la columna pobreza\n",
        "\n",
        "\n"
      ]
    },
    {
      "cell_type": "markdown",
      "metadata": {
        "id": "-wa6qiLqZef5"
      },
      "source": [
        "10. En el TP2 calcularon los individuos bajo la l ́ınea de pobreza. Sin embargo, cuando se habla de pobreza el nu ́mero ma ́s utilizado es el de la tasa de hogares bajo la l ́ınea de pobreza. Para calcularlo, utilicen una sola observaci ́on por hogar y sumen el ponderador PONDIH que permite expandir la muestra de la EPH al total de la poblacio ́n que representa. ¿Cu ́al es la tasa de hogares bajo la l ́ınea de pobreza para el GBA? ¿Se asemeja al que reporta el INDEC en sus informes?"
      ]
    },
    {
      "cell_type": "code",
      "execution_count": 73,
      "metadata": {
        "id": "DtFxQaxpZhhF",
        "colab": {
          "base_uri": "https://localhost:8080/"
        },
        "outputId": "7a8a7c27-1e55-434d-afb6-5a0a3d79eb44"
      },
      "outputs": [
        {
          "output_type": "stream",
          "name": "stdout",
          "text": [
            "   pobre   PONDIH proporcion\n",
            "0      0  3368306   0.691298\n",
            "1      1  1504129   0.308702\n"
          ]
        }
      ],
      "source": [
        "tasa = respondieron.groupby('pobre')['PONDIH'].sum().reset_index()\n",
        "\n",
        "\n",
        "sum = tasa['PONDIH'].sum()\n",
        "\n",
        "# Calculate the proportion for each value in 'PONDIH_x'\n",
        "tasa['proporcion'] = tasa['PONDIH'] / sum\n",
        "print(tasa)\n",
        "\n",
        "# la proporción de hogares bajo de la linea de pobreza en GBA es 29.6%, tan cerca de lo que tenemos.\n"
      ]
    },
    {
      "cell_type": "code",
      "execution_count": 74,
      "metadata": {
        "id": "9zM9-8ckhVfz"
      },
      "outputs": [],
      "source": [
        "# baja columnas si no se pueden convertir en columnas numericos\n",
        "\n",
        "for column in respondieron.columns:\n",
        "    try:\n",
        "        respondieron[column] = pd.to_numeric(respondieron[column])\n",
        "    except TypeError:\n",
        "        respondieron = respondieron.drop([column], axis=1)\n",
        "    except ValueError:\n",
        "        respondieron = respondieron.drop([column], axis=1)\n",
        "\n"
      ]
    },
    {
      "cell_type": "markdown",
      "metadata": {
        "id": "b5RmreaUZmZA"
      },
      "source": [
        "PARTE II:"
      ]
    },
    {
      "cell_type": "markdown",
      "metadata": {
        "id": "WGmuh5Hrgyh3"
      },
      "source": [
        "# New Section"
      ]
    },
    {
      "cell_type": "markdown",
      "metadata": {
        "id": "1gEzo4hMuhBh"
      },
      "source": [
        "\n",
        "El objetivo de esta parte del trabajo es generar co ́digo que sea flexible y que est ́e mo- dularizado (en funciones bien documentadas con docstrings). De esta forma, evitara ́n repetir co ́digo y podra ́n utilizarlo en distintos escenarios (como por ejemplo la Parte III de este TP y sus proyectos personales a futuro)."
      ]
    },
    {
      "cell_type": "markdown",
      "metadata": {
        "id": "MlEr32lvudqP"
      },
      "source": [
        "Escriban una funcio ́n, llamada evalua metodo, que reciba como argumentos un modelo y los datos de entrenamiento y prueba (X train, y train, X test, y test). La funcio ́n debe ajustar el modelo con los datos de entrenamiento y calcular las m ́etricas que considere necesarias para esta problema ́tica (de m ́ıni- ma, deben reportar la matriz de confusio ́n, las curvas ROC y los valores de AUC y de accuracy score de cada m ́etodo). El output de la funcio ́n debe ser una colecci ́on con las m ́etricas evaluadas."
      ]
    },
    {
      "cell_type": "code",
      "execution_count": 68,
      "metadata": {
        "id": "eFeQozubfBbS"
      },
      "outputs": [],
      "source": [
        "# se llama con parametros del modelo\n",
        "\"\"\"\"\"Argumentos: Modelo, x_train, y_train, x_test, y_test\n",
        "    Con estos argumentos, fit el modelo, y evalua la precicion, usando differentes medidas\n",
        "        Return: metricas\"\"\"\n",
        "\n",
        "def evalua_metodo(modelo, x_train, y_train, x_test, y_test):\n",
        "    modelo.fit(x_train, y_train)\n",
        "    # Predicción\n",
        "    y_pred = modelo.predict(x_test)\n",
        "    # Matriz de Confusion\n",
        "    conf_matrix = confusion_matrix(y_test, y_pred)\n",
        "\n",
        "    # ROC y AUC\n",
        "    y_probs = modelo.predict_proba(x_test)[:, 1]  # For binary classification\n",
        "    fpr, tpr, _ = roc_curve(y_test, y_probs)\n",
        "    auc_score = roc_auc_score(y_test, y_probs)\n",
        "\n",
        "    # Precisión\n",
        "    accuracy = accuracy_score(y_test, y_pred)\n",
        "\n",
        "    # Diccionario para guardar las metricas\n",
        "    metricas = {\n",
        "        'Confusion_Matrix': conf_matrix,\n",
        "        'ROC_Curve': (fpr, tpr),\n",
        "        'AUC_Score': auc_score,\n",
        "        'Accuracy_Score': accuracy\n",
        "    }\n",
        "\n",
        "    return metricas"
      ]
    },
    {
      "cell_type": "markdown",
      "metadata": {
        "id": "c1rPhir0hap8"
      },
      "source": [
        "2. Escriban una funcio ́n, llamada cross validation, que realice validaci ́on cru- zada con k iteraciones (k-fold CV), llamando a la funcio ́n del inciso anterior en cada una, pero para las k distintas particiones. La funci ́on debe recibir como argumentos el modelo, el valor de k y un dataset (es decir, s ́olo X e y). Pueden ayudarse con la funcio ́n KFold para generar las particiones necesarias."
      ]
    },
    {
      "cell_type": "code",
      "execution_count": 52,
      "metadata": {
        "id": "uphE1Cr6hOD7"
      },
      "outputs": [],
      "source": [
        "\"\"\"\"\"Argumentos: Modelo, modelo, X (vector de rascos), y (feature vector) X (target vector), k (numero de folds)\n",
        "    Hace k-fold validacion, y evalua mse por cada division de los datos\n",
        "    Return: Un base de datos con varios mse punctuaciones\"\"\"\n",
        "\n",
        "from sklearn.preprocessing import StandardScaler\n",
        "\n",
        "def cross_validation(modelo, X, y, k):\n",
        "\n",
        "    kf = KFold(n_splits=k, shuffle=True, random_state=42)\n",
        "    results = []\n",
        "\n",
        "    for (train_index, test_index) in kf.split(X):\n",
        "        X_train, X_test = X.iloc[train_index], X.iloc[test_index]\n",
        "        y_train, y_test = y.iloc[train_index], y.iloc[test_index]\n",
        "\n",
        "        sc = StandardScaler()\n",
        "        sc.fit(X_train)\n",
        "        X_train_nuevo = sc.transform(X_train)\n",
        "        X_test_nuevo = sc.transform(X_test)\n",
        "\n",
        "        metrics = evalua_metodo(modelo, X_train, y_train, X_test, y_test)\n",
        "        results.append(metrics)\n",
        "\n",
        "        y_pred = modelo.predict(X_test)\n",
        "        mse = mean_squared_error(y_test, y_pred)\n",
        "        metrics['MSE'] = mse\n",
        "\n",
        "\n",
        "\n",
        "    metrics_df = pd.DataFrame(results)\n",
        "\n",
        "    avg_mse = metrics_df['MSE'].mean()\n",
        "\n",
        "    return avg_mse\n"
      ]
    },
    {
      "cell_type": "markdown",
      "metadata": {
        "id": "xYcR2G_Phfuo"
      },
      "source": [
        " Escriban una funcio ́n, llamada evalua config que reciba una lista de con- figuraciones de hiperpar ́ametros1 (los distintos valores a probar como hiper- para ́metros podrian codificarse en diccionarios de Python) y utilizando la fun- cio ́n cross validation obtenga el error2 promedio para cada configuraci ́on. Finalmente, la funci ́on debe devolver la configuraci ́on que genere menor error3."
      ]
    },
    {
      "cell_type": "code",
      "execution_count": 69,
      "metadata": {
        "id": "SEosxuDphgUQ"
      },
      "outputs": [],
      "source": [
        "\"\"\"\"Argumentos: Modelo, hyperparam (diccionario de hyperparemetros), X, y, k (ya definé arriba)\n",
        "    Si tenemos una instancia de logreg, hacemos GridSearch para encontrar el mejor valor de lambda, en otros casos, evaluamos differentes configuariones\n",
        "    para determinar cuál es el mejor\n",
        "    return mejor_config (el mejor configuracion)\"\"\"\"\"\n",
        "\n",
        "def evalua_config(X, y, k=5):\n",
        "    lowest_mse = float('inf')\n",
        "    mejor_config = None\n",
        "\n",
        "    alphas = [0.001, 0.01, 0.1, 1, 10, 100]\n",
        "    penalidades = ['l1', 'l2']\n",
        "    for i in alphas:\n",
        "      for pen in penalidades:\n",
        "          lr = LogisticRegression(penalty=pen, C=1/i, solver='liblinear')\n",
        "          mse = cross_validation(lr, X, y, k)\n",
        "          mse_medio = mse.mean()\n",
        "          if mse_medio < lowest_mse:\n",
        "            lowest_mse = mse\n",
        "            mejor_config = {\"penalidad\": pen, \"alpha\": i}\n",
        "    print(mejor_config[\"penalidad\"])\n",
        "    print(mse)\n",
        "    return mejor_config"
      ]
    },
    {
      "cell_type": "markdown",
      "metadata": {
        "id": "9cpqFFR9ur7n"
      },
      "source": [
        "4. Escriban una funci ́on llamada evalua multiples metodos que les permita im- plementar los siguiente m ́etodos con los hiperpara ́metros que ustedes elijan. Para la regresio ́n log ́ıstica, asegu ́rense de que esta funci ́on utilice su funcio ́n evalua config para optimizar el λ de la regularizacio ́n. Finalmente, el output de la funci ́on debe ser una tabla donde las columnas sean las m ́etricas que hayan evaluado (las que hayan incluido en la funci ́on evalua metodo) y las filas sean los modelos (con su configuracio ́n de hiperpara ́metros asociada) que hayan co- rrido. Asegu ́rense de que la tabla incluya una columna con nombre del modelo y el valor de los hiperpar ́ametros/configuraci ́on"
      ]
    },
    {
      "cell_type": "code",
      "execution_count": 70,
      "metadata": {
        "id": "gyEdBqaxhmaD"
      },
      "outputs": [],
      "source": [
        "\"\"\"\"Argumentos: modelo, hyperparametros, X, y -\n",
        "    return base de datos con medidas del redimiento de los tres alroitmos.\n",
        "        \"\"\"\"\"\n",
        "\n",
        "from sklearn.neighbors import KNeighborsClassifier\n",
        "from sklearn.discriminant_analysis import LinearDiscriminantAnalysis\n",
        "\n",
        "def evalua_multiples_metodos(X, y, hyperparametros=None):\n",
        "\n",
        "    resultados = []\n",
        "    print(X.shape, y.shape)\n",
        "    x_train, x_test, y_train, y_test = train_test_split(X, y, test_size=0.2, random_state=42)\n",
        "\n",
        "    knn = KNeighborsClassifier(**hyperparametros) if hyperparametros else KNeighborsClassifier()\n",
        "\n",
        "    metricas_knn = evalua_metodo(knn, x_train, y_train, x_test, y_test)\n",
        "\n",
        "    resultados.append({'Modelo': 'KNN', **metricas_knn})\n",
        "    # Regression Logistica\n",
        "    mejor_config = evalua_config(X, y, k=5)\n",
        "    lr = LogisticRegression(penalty=mejor_config[\"penalidad\"], C=1/mejor_config[\"alpha\"], solver='liblinear')\n",
        "    metricas_lr = evalua_metodo(lr, x_train, y_train, x_test, y_test)\n",
        "    resultados.append({'Modelo': f'Logistic Regression - Penalidad: {mejor_config[\"penalidad\"]}', **metricas_lr})\n",
        "\n",
        " # valores (me parece repetitivo, porque puse la misma linea en evalua (config)\n",
        "\n",
        "    lda = LinearDiscriminantAnalysis()\n",
        "    metricas_lda = evalua_metodo(lda, x_train, y_train, x_test, y_test)\n",
        "    resultados.append({'Modelo': 'LDA', **metricas_lda})\n",
        " # evaluamos el metodo, usando el mejor config\n",
        "\n",
        "    # el diccionario se convierte en un base de datos\n",
        "   # nombre del modelo en uso\n",
        "    df_metricas = pd.DataFrame(resultados)\n",
        "    return df_metricas"
      ]
    },
    {
      "cell_type": "markdown",
      "metadata": {
        "id": "XTeqiljkhjBF"
      },
      "source": [
        "PARTE III"
      ]
    },
    {
      "cell_type": "markdown",
      "metadata": {
        "id": "mdYZatinmlYk"
      },
      "source": [
        "1. Eliminen de ambas bases (respondieron, norespondieron) todas las variables relacionadas a ingresos (en el archivo Disen ̃o de bases y estructura ver las ca- tegor ́ıas: ingresos de la ocupacio ́n principal de los asalariados, ingresos de la ocupacio ́n principal, ingresos de otras ocupaciones, ingreso total individual, in- gresos no laborales, ingreso total familiar, ingreso per ca ́pita familiar). Eliminen tambi ́en las columnas adulto equiv, ad equiv hogar e ingreso necesario. Establezcan a la variable pobre como su variable dependiente (vector y). El resto de las variables sera ́n las variables independientes (matriz X). Dependien- do de la funci ́on que usen, no se olviden de agregar la columna de 1 cuando sea necesario.\n"
      ]
    },
    {
      "cell_type": "code",
      "execution_count": null,
      "metadata": {
        "id": "sXb8wv5DmUlo"
      },
      "outputs": [],
      "source": [
        "# PARTE III\n",
        "\n",
        "    # Ya eliminé datos relacionados con ingresos antes de el merge, porque creía que era mas facil para hacerlo antes\n"
      ]
    },
    {
      "cell_type": "code",
      "execution_count": 75,
      "metadata": {
        "colab": {
          "base_uri": "https://localhost:8080/"
        },
        "id": "dZ8-DiAHPJgQ",
        "outputId": "bd6a6d86-d411-4b12-9793-b9f9840b38e5"
      },
      "outputs": [
        {
          "output_type": "stream",
          "name": "stdout",
          "text": [
            "(1495, 8)\n",
            "(1495,)\n"
          ]
        }
      ],
      "source": [
        "respondieron = respondieron.drop(columns= ['adulto_equiv', 'ad_equiv_hogar1', 'ingreso_necesario'])\n",
        "respondieron = respondieron.dropna()\n",
        "y = respondieron['pobre']\n",
        "X = respondieron.drop(columns = 'pobre')\n",
        "X = respondieron[['IV1', 'IV6', 'IV12_1', 'II9', 'V5', 'CH09', 'NIVEL_ED']]\n",
        "\n",
        "# IV1 (tipo de alojamiento)\n",
        "# IV6 (disponilidad de agua)\n",
        "# IV12_1 (La vivienda está ubicada cerda de basural (3 cuadras o menos))\n",
        "#II9 (Acceso de un Baño, propio baño, compartido con otras, etc))\n",
        "# V5 (si han vivido de algún subsidio o ayuda social (de gobierno, iglesia, etc))\n",
        "#CH09 - Sabe leer y escribir\n",
        "#Nivel_ED - Nivel de educacción\n",
        "X = X.copy()\n",
        "X['intercept'] = 1\n",
        "# declarar una columna con valores del intercept, cuando sea necessario\n",
        "print(X.shape) # quería comfirmar con las formas estaban en orden para correr al algoritmo\n",
        "print(y.shape)"
      ]
    },
    {
      "cell_type": "markdown",
      "metadata": {
        "id": "ulNHkcdOmcx9"
      },
      "source": []
    },
    {
      "cell_type": "markdown",
      "metadata": {
        "id": "SIT71hnNo89p"
      },
      "source": [
        "\n",
        "2. Corran la funcio ́n evalua multiples metodos con la base respondieron. En los pro ́ximos incisos profundizaremos en la tarea de regularizacio ́n, pero en este ejercicio prueben al menos un hiperpara ́metro para regularizar y al menos un valor de λ."
      ]
    },
    {
      "cell_type": "markdown",
      "source": [],
      "metadata": {
        "id": "59u37ap0TolI"
      }
    },
    {
      "cell_type": "code",
      "execution_count": 56,
      "metadata": {
        "colab": {
          "base_uri": "https://localhost:8080/",
          "height": 197
        },
        "id": "mxZ9JpCCmcVy",
        "outputId": "ba317f6c-3b20-4d3e-95f5-b12ec66425b1"
      },
      "outputs": [
        {
          "output_type": "stream",
          "name": "stdout",
          "text": [
            "(1495, 8) (1495,)\n",
            "l1\n",
            "0.27357859531772577\n"
          ]
        },
        {
          "output_type": "execute_result",
          "data": {
            "text/plain": [
              "                                Modelo       Confusion_Matrix  \\\n",
              "0                                  KNN  [[185, 29], [48, 37]]   \n",
              "1  Logistic Regression - Penalidad: l1   [[205, 9], [50, 35]]   \n",
              "2                                  LDA   [[206, 8], [50, 35]]   \n",
              "\n",
              "                                           ROC_Curve  AUC_Score  \\\n",
              "0  ([0.0, 0.009345794392523364, 0.023364485981308...   0.700797   \n",
              "1  ([0.0, 0.0, 0.004672897196261682, 0.0046728971...   0.779687   \n",
              "2  ([0.0, 0.0, 0.004672897196261682, 0.0046728971...   0.784524   \n",
              "\n",
              "   Accuracy_Score  \n",
              "0        0.742475  \n",
              "1        0.802676  \n",
              "2        0.806020  "
            ],
            "text/html": [
              "\n",
              "  <div id=\"df-35f25217-680b-466e-9c5f-b69dc791822a\" class=\"colab-df-container\">\n",
              "    <div>\n",
              "<style scoped>\n",
              "    .dataframe tbody tr th:only-of-type {\n",
              "        vertical-align: middle;\n",
              "    }\n",
              "\n",
              "    .dataframe tbody tr th {\n",
              "        vertical-align: top;\n",
              "    }\n",
              "\n",
              "    .dataframe thead th {\n",
              "        text-align: right;\n",
              "    }\n",
              "</style>\n",
              "<table border=\"1\" class=\"dataframe\">\n",
              "  <thead>\n",
              "    <tr style=\"text-align: right;\">\n",
              "      <th></th>\n",
              "      <th>Modelo</th>\n",
              "      <th>Confusion_Matrix</th>\n",
              "      <th>ROC_Curve</th>\n",
              "      <th>AUC_Score</th>\n",
              "      <th>Accuracy_Score</th>\n",
              "    </tr>\n",
              "  </thead>\n",
              "  <tbody>\n",
              "    <tr>\n",
              "      <th>0</th>\n",
              "      <td>KNN</td>\n",
              "      <td>[[185, 29], [48, 37]]</td>\n",
              "      <td>([0.0, 0.009345794392523364, 0.023364485981308...</td>\n",
              "      <td>0.700797</td>\n",
              "      <td>0.742475</td>\n",
              "    </tr>\n",
              "    <tr>\n",
              "      <th>1</th>\n",
              "      <td>Logistic Regression - Penalidad: l1</td>\n",
              "      <td>[[205, 9], [50, 35]]</td>\n",
              "      <td>([0.0, 0.0, 0.004672897196261682, 0.0046728971...</td>\n",
              "      <td>0.779687</td>\n",
              "      <td>0.802676</td>\n",
              "    </tr>\n",
              "    <tr>\n",
              "      <th>2</th>\n",
              "      <td>LDA</td>\n",
              "      <td>[[206, 8], [50, 35]]</td>\n",
              "      <td>([0.0, 0.0, 0.004672897196261682, 0.0046728971...</td>\n",
              "      <td>0.784524</td>\n",
              "      <td>0.806020</td>\n",
              "    </tr>\n",
              "  </tbody>\n",
              "</table>\n",
              "</div>\n",
              "    <div class=\"colab-df-buttons\">\n",
              "\n",
              "  <div class=\"colab-df-container\">\n",
              "    <button class=\"colab-df-convert\" onclick=\"convertToInteractive('df-35f25217-680b-466e-9c5f-b69dc791822a')\"\n",
              "            title=\"Convert this dataframe to an interactive table.\"\n",
              "            style=\"display:none;\">\n",
              "\n",
              "  <svg xmlns=\"http://www.w3.org/2000/svg\" height=\"24px\" viewBox=\"0 -960 960 960\">\n",
              "    <path d=\"M120-120v-720h720v720H120Zm60-500h600v-160H180v160Zm220 220h160v-160H400v160Zm0 220h160v-160H400v160ZM180-400h160v-160H180v160Zm440 0h160v-160H620v160ZM180-180h160v-160H180v160Zm440 0h160v-160H620v160Z\"/>\n",
              "  </svg>\n",
              "    </button>\n",
              "\n",
              "  <style>\n",
              "    .colab-df-container {\n",
              "      display:flex;\n",
              "      gap: 12px;\n",
              "    }\n",
              "\n",
              "    .colab-df-convert {\n",
              "      background-color: #E8F0FE;\n",
              "      border: none;\n",
              "      border-radius: 50%;\n",
              "      cursor: pointer;\n",
              "      display: none;\n",
              "      fill: #1967D2;\n",
              "      height: 32px;\n",
              "      padding: 0 0 0 0;\n",
              "      width: 32px;\n",
              "    }\n",
              "\n",
              "    .colab-df-convert:hover {\n",
              "      background-color: #E2EBFA;\n",
              "      box-shadow: 0px 1px 2px rgba(60, 64, 67, 0.3), 0px 1px 3px 1px rgba(60, 64, 67, 0.15);\n",
              "      fill: #174EA6;\n",
              "    }\n",
              "\n",
              "    .colab-df-buttons div {\n",
              "      margin-bottom: 4px;\n",
              "    }\n",
              "\n",
              "    [theme=dark] .colab-df-convert {\n",
              "      background-color: #3B4455;\n",
              "      fill: #D2E3FC;\n",
              "    }\n",
              "\n",
              "    [theme=dark] .colab-df-convert:hover {\n",
              "      background-color: #434B5C;\n",
              "      box-shadow: 0px 1px 3px 1px rgba(0, 0, 0, 0.15);\n",
              "      filter: drop-shadow(0px 1px 2px rgba(0, 0, 0, 0.3));\n",
              "      fill: #FFFFFF;\n",
              "    }\n",
              "  </style>\n",
              "\n",
              "    <script>\n",
              "      const buttonEl =\n",
              "        document.querySelector('#df-35f25217-680b-466e-9c5f-b69dc791822a button.colab-df-convert');\n",
              "      buttonEl.style.display =\n",
              "        google.colab.kernel.accessAllowed ? 'block' : 'none';\n",
              "\n",
              "      async function convertToInteractive(key) {\n",
              "        const element = document.querySelector('#df-35f25217-680b-466e-9c5f-b69dc791822a');\n",
              "        const dataTable =\n",
              "          await google.colab.kernel.invokeFunction('convertToInteractive',\n",
              "                                                    [key], {});\n",
              "        if (!dataTable) return;\n",
              "\n",
              "        const docLinkHtml = 'Like what you see? Visit the ' +\n",
              "          '<a target=\"_blank\" href=https://colab.research.google.com/notebooks/data_table.ipynb>data table notebook</a>'\n",
              "          + ' to learn more about interactive tables.';\n",
              "        element.innerHTML = '';\n",
              "        dataTable['output_type'] = 'display_data';\n",
              "        await google.colab.output.renderOutput(dataTable, element);\n",
              "        const docLink = document.createElement('div');\n",
              "        docLink.innerHTML = docLinkHtml;\n",
              "        element.appendChild(docLink);\n",
              "      }\n",
              "    </script>\n",
              "  </div>\n",
              "\n",
              "\n",
              "<div id=\"df-a77387ce-c61d-4424-9eb4-e811b9917f05\">\n",
              "  <button class=\"colab-df-quickchart\" onclick=\"quickchart('df-a77387ce-c61d-4424-9eb4-e811b9917f05')\"\n",
              "            title=\"Suggest charts\"\n",
              "            style=\"display:none;\">\n",
              "\n",
              "<svg xmlns=\"http://www.w3.org/2000/svg\" height=\"24px\"viewBox=\"0 0 24 24\"\n",
              "     width=\"24px\">\n",
              "    <g>\n",
              "        <path d=\"M19 3H5c-1.1 0-2 .9-2 2v14c0 1.1.9 2 2 2h14c1.1 0 2-.9 2-2V5c0-1.1-.9-2-2-2zM9 17H7v-7h2v7zm4 0h-2V7h2v10zm4 0h-2v-4h2v4z\"/>\n",
              "    </g>\n",
              "</svg>\n",
              "  </button>\n",
              "\n",
              "<style>\n",
              "  .colab-df-quickchart {\n",
              "      --bg-color: #E8F0FE;\n",
              "      --fill-color: #1967D2;\n",
              "      --hover-bg-color: #E2EBFA;\n",
              "      --hover-fill-color: #174EA6;\n",
              "      --disabled-fill-color: #AAA;\n",
              "      --disabled-bg-color: #DDD;\n",
              "  }\n",
              "\n",
              "  [theme=dark] .colab-df-quickchart {\n",
              "      --bg-color: #3B4455;\n",
              "      --fill-color: #D2E3FC;\n",
              "      --hover-bg-color: #434B5C;\n",
              "      --hover-fill-color: #FFFFFF;\n",
              "      --disabled-bg-color: #3B4455;\n",
              "      --disabled-fill-color: #666;\n",
              "  }\n",
              "\n",
              "  .colab-df-quickchart {\n",
              "    background-color: var(--bg-color);\n",
              "    border: none;\n",
              "    border-radius: 50%;\n",
              "    cursor: pointer;\n",
              "    display: none;\n",
              "    fill: var(--fill-color);\n",
              "    height: 32px;\n",
              "    padding: 0;\n",
              "    width: 32px;\n",
              "  }\n",
              "\n",
              "  .colab-df-quickchart:hover {\n",
              "    background-color: var(--hover-bg-color);\n",
              "    box-shadow: 0 1px 2px rgba(60, 64, 67, 0.3), 0 1px 3px 1px rgba(60, 64, 67, 0.15);\n",
              "    fill: var(--button-hover-fill-color);\n",
              "  }\n",
              "\n",
              "  .colab-df-quickchart-complete:disabled,\n",
              "  .colab-df-quickchart-complete:disabled:hover {\n",
              "    background-color: var(--disabled-bg-color);\n",
              "    fill: var(--disabled-fill-color);\n",
              "    box-shadow: none;\n",
              "  }\n",
              "\n",
              "  .colab-df-spinner {\n",
              "    border: 2px solid var(--fill-color);\n",
              "    border-color: transparent;\n",
              "    border-bottom-color: var(--fill-color);\n",
              "    animation:\n",
              "      spin 1s steps(1) infinite;\n",
              "  }\n",
              "\n",
              "  @keyframes spin {\n",
              "    0% {\n",
              "      border-color: transparent;\n",
              "      border-bottom-color: var(--fill-color);\n",
              "      border-left-color: var(--fill-color);\n",
              "    }\n",
              "    20% {\n",
              "      border-color: transparent;\n",
              "      border-left-color: var(--fill-color);\n",
              "      border-top-color: var(--fill-color);\n",
              "    }\n",
              "    30% {\n",
              "      border-color: transparent;\n",
              "      border-left-color: var(--fill-color);\n",
              "      border-top-color: var(--fill-color);\n",
              "      border-right-color: var(--fill-color);\n",
              "    }\n",
              "    40% {\n",
              "      border-color: transparent;\n",
              "      border-right-color: var(--fill-color);\n",
              "      border-top-color: var(--fill-color);\n",
              "    }\n",
              "    60% {\n",
              "      border-color: transparent;\n",
              "      border-right-color: var(--fill-color);\n",
              "    }\n",
              "    80% {\n",
              "      border-color: transparent;\n",
              "      border-right-color: var(--fill-color);\n",
              "      border-bottom-color: var(--fill-color);\n",
              "    }\n",
              "    90% {\n",
              "      border-color: transparent;\n",
              "      border-bottom-color: var(--fill-color);\n",
              "    }\n",
              "  }\n",
              "</style>\n",
              "\n",
              "  <script>\n",
              "    async function quickchart(key) {\n",
              "      const quickchartButtonEl =\n",
              "        document.querySelector('#' + key + ' button');\n",
              "      quickchartButtonEl.disabled = true;  // To prevent multiple clicks.\n",
              "      quickchartButtonEl.classList.add('colab-df-spinner');\n",
              "      try {\n",
              "        const charts = await google.colab.kernel.invokeFunction(\n",
              "            'suggestCharts', [key], {});\n",
              "      } catch (error) {\n",
              "        console.error('Error during call to suggestCharts:', error);\n",
              "      }\n",
              "      quickchartButtonEl.classList.remove('colab-df-spinner');\n",
              "      quickchartButtonEl.classList.add('colab-df-quickchart-complete');\n",
              "    }\n",
              "    (() => {\n",
              "      let quickchartButtonEl =\n",
              "        document.querySelector('#df-a77387ce-c61d-4424-9eb4-e811b9917f05 button');\n",
              "      quickchartButtonEl.style.display =\n",
              "        google.colab.kernel.accessAllowed ? 'block' : 'none';\n",
              "    })();\n",
              "  </script>\n",
              "</div>\n",
              "    </div>\n",
              "  </div>\n"
            ]
          },
          "metadata": {},
          "execution_count": 56
        }
      ],
      "source": [
        "from sklearn.model_selection import GridSearchCV\n",
        "from sklearn.linear_model import LogisticRegression\n",
        "\n",
        "# llama metodo\n",
        "\n",
        "\n",
        "evalua_multiples_metodos(X, y)\n"
      ]
    },
    {
      "cell_type": "markdown",
      "source": [
        "3. Expliquen co ́mo elegir ́ıan λ por validacio ́n cruzada. Detallen por qu ́e no usar ́ıan el conjunto de prueba (test) para su eleccio ́n."
      ],
      "metadata": {
        "id": "nKFDSPxZTmYN"
      }
    },
    {
      "cell_type": "markdown",
      "metadata": {
        "id": "76ajKwdXmbkM"
      },
      "source": [
        "Eligimos λ mediante de validación cruzada (lo que hicimos en el función cross_validation), pero no usaríamos el prueba de test por el proceso de optimización, porque eso resultaría en rendimiento sesgada, porque estaríamos usando datos ocultados de el modelo. Adémas, es posible que con el conjunto de prueba de test, el modelo funcionaría bien en relacion col los datos de test, pero peor con los datos de etranamiento."
      ]
    },
    {
      "cell_type": "markdown",
      "source": [
        "4. En validacio ́n cruzada, ¿cu ́al es el problema de usar un k muy pequen ̃o y uno muy grande? Cuando k = n (con n el nu ́mero de muestras), ¿cu ́antas veces se estima el modelo?"
      ],
      "metadata": {
        "id": "4pEuQHX8VXAn"
      }
    },
    {
      "cell_type": "markdown",
      "source": [
        "Aunque un valor de k mas grande podría resultar en menos sesgo, pero mas varianza (porque hay un compensacíon entre los dos characteristicas). Adémas, un valor demasiado grande de k costaría mas poder computacional, y la programa correrá mas despacio.\n",
        "\n",
        "Con un valor mas pequeno de k, vas a tener menos varianza, pero mas sesgo, y tu programa va a correr rapidemente porque valores mas pequenos requiren menos poder computacional."
      ],
      "metadata": {
        "id": "amz8IebcVX96"
      }
    },
    {
      "cell_type": "markdown",
      "source": [
        "\n",
        "5. Realicen un barrido en λ = 10n con n ∈ {−5,−4,−3...,+4,+5} y utilicen 10 fold CV para elegir el λ o ́ptimo en regresio ́n logistica con Ridge y con LASSO. ¿Qu ́e λ selecciono ́ en cada caso? Generen box-plots mostrando la distribucio ́n del error de prediccio ́n para cada λ. Cada box debe corresponder a un valor de λ y contener como observaciones el error medio de validacio ́n para cada partici ́on. Adema ́s, para la regularizacio ́n LASSO, genere un box-plot similar, pero ahora graficando la proporci ́on de variables ignoradas por el modelo en funcio ́n de λ, es decir la proporcio ́n de variables para las cuales el coeficiente asociado es cero."
      ],
      "metadata": {
        "id": "SFw4oflnWXjI"
      }
    },
    {
      "cell_type": "code",
      "source": [
        "from sklearn.preprocessing import StandardScaler\n",
        "\n",
        "rango_lambda = [10**n for n in range(-5, 6)] # rango de lambas\n",
        "k=10\n",
        "\n",
        "# función parecido de cross_validacion, pero enfocado specificamente en encontrar el mejor valor de lambda\n",
        "def cross_validation_lambda(X, y, k, lam, penalidad):\n",
        "   # num_cero_correlacion = 0\n",
        "    kf = KFold(n_splits=k, shuffle=True, random_state=42)\n",
        "    results = []\n",
        "\n",
        "    for (train_index, test_index) in kf.split(X):\n",
        "        X_train, X_test = X.iloc[train_index], X.iloc[test_index]\n",
        "        y_train, y_test = y.iloc[train_index], y.iloc[test_index]\n",
        "\n",
        "        sc = StandardScaler() # standardizar todos de los datos\n",
        "        sc.fit(X_train)\n",
        "        X_train_nuevo = sc.transform(X_train)\n",
        "        X_test_nuevo = sc.transform(X_test)\n",
        "\n",
        "        modelo = LogisticRegression(penalty=penalidad, C=1/lam, solver='liblinear') # intentamos con cada valor de lambra, y volver el que produce menos mse\n",
        "        modelo.fit(X_train, y_train)\n",
        "      #  if modelo.coef_.all() == 0:\n",
        "        #  num_cero_correlacio += 1\n",
        "\n",
        "        metrics = evalua_metodo(modelo, X_train, y_train, X_test, y_test)\n",
        "        results.append(metrics)\n",
        "\n",
        "        y_pred = modelo.predict(X_test)\n",
        "        mse = mean_squared_error(y_test, y_pred)\n",
        "        metrics['MSE'] = mse\n",
        "\n",
        "     #   num_cero_correlacion_proporción = num_cero_correlacion/k # estaba intentando a establecer valores de la segunda visualización de parte 5\n",
        "\n",
        "        metrics_df = pd.DataFrame(results)\n",
        "        avg_mse = metrics_df['MSE'].mean()\n",
        "\n",
        "\n",
        "\n",
        "    return avg_mse"
      ],
      "metadata": {
        "id": "0on5DZc8WXTQ"
      },
      "execution_count": 66,
      "outputs": []
    },
    {
      "cell_type": "code",
      "source": [
        "y = respondieron['pobre']\n",
        "X = respondieron[['IV1', 'IV6', 'IV12_1', 'II9', 'V5', 'CH09', 'NIVEL_ED']]\n",
        "\n",
        "mse_ridge_list = []\n",
        "mejor_lambda_ridge = None\n",
        "mejor_score_ridge = float('inf')\n",
        "\n",
        "mse_lasso_list = []\n",
        "mejor_lambda_lasso = None\n",
        "mejor_score_lasso = float('inf')\n",
        "\n",
        "for lambda_val in rango_lambda:\n",
        "    # 10-fold cross validacion de ridge\n",
        "    mse_ridge = cross_validation_lambda(X=X, y=y, k=10, lam=lambda_val, penalidad='l2') # intentando differentes valores de panlidades\n",
        "    mse_ridge_list.append(mse_ridge)\n",
        "    # 10-fold cross validacion de lasso\n",
        "    mse_lasso = cross_validation_lambda(X=X, y=y, k=10, lam=lambda_val, penalidad='l1')\n",
        "    mse_lasso_list.append(mse_lasso)\n",
        "    if mse_ridge < mejor_score_ridge:\n",
        "        mejor_score_ridge = mse_ridge\n",
        "        mejor_lambda_ridge = lambda_val # determinar el mejor valor de lambda con ridge\n",
        "\n",
        "    if mse_lasso < mejor_score_lasso: # determinal el mejor valor de lambda con lasso\n",
        "        mejor_score_lasso = mse_lasso\n",
        "        mejor_lambda_lasso = lambda_val\n",
        "\n",
        "print('Mejor valor lasso: ', mejor_lambda_lasso, 'score: ', mejor_score_lasso)\n",
        "\n",
        "print('Mejor valor ridge: ', mejor_lambda_ridge, 'score: ', mejor_score_ridge)"
      ],
      "metadata": {
        "colab": {
          "base_uri": "https://localhost:8080/"
        },
        "id": "dMWLhEF1WW70",
        "outputId": "4c57290b-85a8-489e-a442-319fc6551def"
      },
      "execution_count": 67,
      "outputs": [
        {
          "output_type": "stream",
          "name": "stdout",
          "text": [
            "Mejor valor lasso:  1e-05 score:  0.20330201342281878\n",
            "Mejor valor ridge:  0.1 score:  0.20263534675615213\n"
          ]
        }
      ]
    },
    {
      "cell_type": "markdown",
      "source": [],
      "metadata": {
        "id": "89jjPLg4h1h0"
      }
    },
    {
      "cell_type": "code",
      "source": [
        "# creando el visualization, pero ahora no me parece correcto, y para ser honesto no me queda tan claro el segunda parte cuando visualizamos lambda\n",
        "\n",
        "lambda_labels = [str(val) for val in rango_lambda]\n",
        "print(len(lambda_labels))\n",
        "print(len(mse_ridge_list))\n",
        "print(len(mse_lasso_list))\n",
        "\n",
        "# Subplots\n",
        "fig, ax = plt.subplots()\n",
        "\n",
        "# boxplots\n",
        "ax.boxplot([mse_ridge_list, mse_lasso_list], labels=['Ridge', 'Lasso'])\n",
        "ax.set_xticklabels([\"Ridge\", \"Lasso\"])\n",
        "ax.set_xlabel(\"Regularizacion\")\n",
        "ax.set_ylabel(\"MSE\")\n",
        "ax.set_title(\"Distribucion de errores de Prediction por Ridge y Lasso\")\n"
      ],
      "metadata": {
        "id": "Ypdcmxr9cNL2",
        "colab": {
          "base_uri": "https://localhost:8080/",
          "height": 543
        },
        "outputId": "ad902f00-ce6e-4b81-ac55-0b2fa3fdb0e6"
      },
      "execution_count": 25,
      "outputs": [
        {
          "output_type": "stream",
          "name": "stdout",
          "text": [
            "11\n",
            "11\n",
            "11\n"
          ]
        },
        {
          "output_type": "execute_result",
          "data": {
            "text/plain": [
              "Text(0.5, 1.0, 'Distribucion de errores de Prediction por Ridge y Lasso')"
            ]
          },
          "metadata": {},
          "execution_count": 25
        },
        {
          "output_type": "display_data",
          "data": {
            "text/plain": [
              "<Figure size 640x480 with 1 Axes>"
            ],
            "image/png": "[encoded data removed]"
          },
          "metadata": {}
        }
      ]
    },
    {
      "cell_type": "markdown",
      "source": [
        ". Elijan alguno de los modelos de regresio ́n log ́ıstica donde hayan probado distin- tos parametros de regularizacio ́n y comenten: ¿Qu ́e m ́etodo de regularizaci ́on funciono ́ mejor Ridge o LASSO? Comenten mencionando el error cuadra ́tico medio (ECM)."
      ],
      "metadata": {
        "id": "_sG17Wy_inKX"
      }
    },
    {
      "cell_type": "markdown",
      "source": [
        "Segun de evalua_multiple_metodos, la penalidad de mi mejor_config era l1 (lasso), con un ECM de .2735"
      ],
      "metadata": {
        "id": "bFwy1uXIkiQQ"
      }
    },
    {
      "cell_type": "markdown",
      "source": [
        "8. ¿Cu ́al de todos los m ́etodos evaluados predice mejor? ¿Con qu ́e hiperpara ́me- tros? Justifiquen detalladamente utilizando las medidas de precisi ́on que cono- cen."
      ],
      "metadata": {
        "id": "jfbfOY9YLC2h"
      }
    },
    {
      "cell_type": "markdown",
      "source": [
        "Según de los resultados de evalua_multiple metodos, aparece que logistic_regression funcionó mejor, con el accuracy score basicamente igual a lda, y auc score basicamente igual de lda. aunque el confusion_matrix de lda produzcó uno mas predicíon verdadero, para mi prefiero regresión logistica, porque entiendo el funcionalidad de esta enfoque mejor."
      ],
      "metadata": {
        "id": "RCkvyT6zLEGH"
      }
    },
    {
      "cell_type": "markdown",
      "source": [
        "9. Con el m ́etodo que seleccionaron, predigan qu ́e personas son pobres dentro de la base norespondieron. ¿Qu ́e proporci ́on de los hogares son pobres en esa submuestra?"
      ],
      "metadata": {
        "id": "EgyRn4tOLvEn"
      }
    },
    {
      "cell_type": "code",
      "source": [
        "norespondieron = merged_df[merged_df['ITF'] == 0].copy()\n",
        "norespondieron['ingreso_necesario'] = norespondieron['ad_equiv_hogar1'] * canasta\n",
        "\n",
        "percentile_20 = norespondieron['ingreso_necesario'].quantile(0.20)\n",
        "\n",
        "# Definir pobre según de veinte percentile\n",
        "norespondieron['pobre'] = (norespondieron['ingreso_necesario'] < percentile_20).astype(int) # se declara la columna pobreza\n",
        "\n",
        "\n",
        "for column in norespondieron.columns: # hice lo mismo con respondieron\n",
        "    try:\n",
        "        norespondieron[column] = pd.to_numeric(norespondieron[column])\n",
        "    except TypeError:\n",
        "        norespondieron = norespondieron.drop([column], axis=1)\n",
        "    except ValueError:\n",
        "        norespondieron = norespondieron.drop([column], axis=1)\n",
        "\n",
        "cuenta_pobreza = (norespondieron['pobre'] == 1).sum()\n",
        "cuenta_todo = len(norespondieron)\n",
        "\n",
        "# Calculate the proportion\n",
        "proporción_pobreza = cuenta_pobreza / cuenta_todo\n",
        "print('Propoción de hugares en pobreza: ', proporción_pobreza)\n",
        "\n",
        "#20% en pobreza, y tiene sentido si tienes en cuenta lo que hice para clasificar pobreza de norespondieron (porque igual no me queda claro como clasificamos sin columnas de ingreso)\n",
        "\n",
        "\n"
      ],
      "metadata": {
        "id": "-0pBMGAoim0o",
        "colab": {
          "base_uri": "https://localhost:8080/"
        },
        "outputId": "80c6192d-10dd-46c7-b035-b319f05f9057"
      },
      "execution_count": 60,
      "outputs": [
        {
          "output_type": "stream",
          "name": "stdout",
          "text": [
            "Propoción de hugares en pobreza:  0.20053715308863027\n"
          ]
        }
      ]
    },
    {
      "cell_type": "code",
      "source": [
        "norespondieron = norespondieron.drop(columns= ['adulto_equiv', 'ad_equiv_hogar1', 'ingreso_necesario'])\n",
        "norespondieron = norespondieron.dropna()\n",
        "y = norespondieron['pobre']\n",
        "X = norespondieron.drop(columns = 'pobre')\n",
        "X = norespondieron[['IV1', 'IV6', 'IV12_1', 'II9', 'V5', 'CH09', 'NIVEL_ED']]\n",
        "\n",
        "# IV1 (tipo de alojamiento)\n",
        "# IV6 (disponilidad de agua)\n",
        "# IV12_1 (La vivienda está ubicada cerda de basural (3 cuadras o menos))\n",
        "#II9 (Acceso de un Baño, propio baño, compartido con otras, etc))\n",
        "# V5 (si han vivido de algún subsidio o ayuda social (de gobierno, iglesia, etc))\n",
        "#CH09 - Sabe leer y escribir\n",
        "#Nivel_ED - Nivel de educacción\n",
        "X = X.copy()\n",
        "X['intercept'] = 1\n",
        "# declarar una columna con valores del intercept, cuando sea necessario\n",
        "\n",
        "\n"
      ],
      "metadata": {
        "colab": {
          "base_uri": "https://localhost:8080/"
        },
        "id": "9r6w4cpSMm-b",
        "outputId": "e6e438cb-3482-452f-feae-cdf80937edd5"
      },
      "execution_count": null,
      "outputs": [
        {
          "output_type": "stream",
          "name": "stdout",
          "text": [
            "(1117, 8)\n",
            "(1117,)\n",
            "0       0\n",
            "7       1\n",
            "21      0\n",
            "36      0\n",
            "39      0\n",
            "       ..\n",
            "7259    0\n",
            "7264    0\n",
            "7267    0\n",
            "7275    0\n",
            "7283    0\n",
            "Name: pobre, Length: 1117, dtype: int64\n"
          ]
        }
      ]
    },
    {
      "cell_type": "code",
      "source": [
        "X_train, X_test, y_train, y_test = train_test_split(X, y, test_size=0.2, random_state=42)\n",
        "\n",
        "mejor_config=evalua_config(X,y, k=5)\n",
        "\n",
        "\n",
        "lr = LogisticRegression(penalty=mejor_config[\"penalidad\"], C=1/mejor_config[\"alpha\"], solver='liblinear')\n",
        "lr.fit(X_train, y_train)\n",
        "\n",
        "y_pred = lr.predict(X_test)\n",
        "\n",
        "accuracy = accuracy_score(y_test, y_pred)\n",
        "print(\"Accuracy:\", accuracy)"
      ],
      "metadata": {
        "colab": {
          "base_uri": "https://localhost:8080/"
        },
        "id": "R5mITQEjM_an",
        "outputId": "10a7990f-2c0a-4f80-a2d3-493ec82b7022"
      },
      "execution_count": 61,
      "outputs": [
        {
          "output_type": "stream",
          "name": "stdout",
          "text": [
            "l1\n",
            "0.27357859531772577\n",
            "Accuracy: 0.802675585284281\n"
          ]
        }
      ]
    }
  ],
  "metadata": {
    "colab": {
      "provenance": []
    },
    "kernelspec": {
      "display_name": "Python 3",
      "name": "python3"
    },
    "language_info": {
      "name": "python"
    }
  },
  "nbformat": 4,
  "nbformat_minor": 0
}